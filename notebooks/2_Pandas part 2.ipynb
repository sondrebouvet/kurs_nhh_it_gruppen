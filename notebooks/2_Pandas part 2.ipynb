{
 "cells": [
  {
   "cell_type": "markdown",
   "metadata": {},
   "source": [
    "## Importer Pakker"
   ]
  },
  {
   "cell_type": "code",
   "execution_count": 139,
   "metadata": {
    "tags": []
   },
   "outputs": [],
   "source": [
    "import pandas as pd"
   ]
  },
  {
   "cell_type": "code",
   "execution_count": 140,
   "metadata": {
    "tags": []
   },
   "outputs": [],
   "source": [
    "transaksjoner = pd.read_csv(\"../data/utfyllende_transaksjon.csv\")"
   ]
  },
  {
   "cell_type": "markdown",
   "metadata": {
    "tags": []
   },
   "source": [
    "## Dataformat\n",
    "\n",
    "La oss sjekke dataformatet på kolonnene"
   ]
  },
  {
   "cell_type": "code",
   "execution_count": 141,
   "metadata": {
    "tags": []
   },
   "outputs": [
    {
     "data": {
      "text/plain": [
       "id                int64\n",
       "userId            int64\n",
       "stockId           int64\n",
       "groupId           int64\n",
       "semesterId        int64\n",
       "logTimestamp     object\n",
       "price           float64\n",
       "stockName        object\n",
       "volume          float64\n",
       "groupName        object\n",
       "dtype: object"
      ]
     },
     "execution_count": 141,
     "metadata": {},
     "output_type": "execute_result"
    }
   ],
   "source": [
    "transaksjoner.dtypes"
   ]
  },
  {
   "cell_type": "code",
   "execution_count": 142,
   "metadata": {
    "tags": []
   },
   "outputs": [
    {
     "data": {
      "text/html": [
       "<div>\n",
       "<style scoped>\n",
       "    .dataframe tbody tr th:only-of-type {\n",
       "        vertical-align: middle;\n",
       "    }\n",
       "\n",
       "    .dataframe tbody tr th {\n",
       "        vertical-align: top;\n",
       "    }\n",
       "\n",
       "    .dataframe thead th {\n",
       "        text-align: right;\n",
       "    }\n",
       "</style>\n",
       "<table border=\"1\" class=\"dataframe\">\n",
       "  <thead>\n",
       "    <tr style=\"text-align: right;\">\n",
       "      <th></th>\n",
       "      <th>id</th>\n",
       "      <th>userId</th>\n",
       "      <th>stockId</th>\n",
       "      <th>groupId</th>\n",
       "      <th>semesterId</th>\n",
       "      <th>logTimestamp</th>\n",
       "      <th>price</th>\n",
       "      <th>stockName</th>\n",
       "      <th>volume</th>\n",
       "      <th>groupName</th>\n",
       "    </tr>\n",
       "  </thead>\n",
       "  <tbody>\n",
       "    <tr>\n",
       "      <th>0</th>\n",
       "      <td>2</td>\n",
       "      <td>6</td>\n",
       "      <td>7</td>\n",
       "      <td>1</td>\n",
       "      <td>1</td>\n",
       "      <td>2022-03-23 17:08:52</td>\n",
       "      <td>21.0</td>\n",
       "      <td>Coca Cola 0,5</td>\n",
       "      <td>0.5</td>\n",
       "      <td>it.gruppen</td>\n",
       "    </tr>\n",
       "    <tr>\n",
       "      <th>1</th>\n",
       "      <td>5</td>\n",
       "      <td>5</td>\n",
       "      <td>7</td>\n",
       "      <td>1</td>\n",
       "      <td>1</td>\n",
       "      <td>2022-03-23 17:33:12</td>\n",
       "      <td>21.0</td>\n",
       "      <td>Coca Cola 0,5</td>\n",
       "      <td>0.5</td>\n",
       "      <td>it.gruppen</td>\n",
       "    </tr>\n",
       "  </tbody>\n",
       "</table>\n",
       "</div>"
      ],
      "text/plain": [
       "   id  userId  stockId  groupId  semesterId        logTimestamp  price  \\\n",
       "0   2       6        7        1           1 2022-03-23 17:08:52   21.0   \n",
       "1   5       5        7        1           1 2022-03-23 17:33:12   21.0   \n",
       "\n",
       "       stockName  volume   groupName  \n",
       "0  Coca Cola 0,5     0.5  it.gruppen  \n",
       "1  Coca Cola 0,5     0.5  it.gruppen  "
      ]
     },
     "execution_count": 142,
     "metadata": {},
     "output_type": "execute_result"
    }
   ],
   "source": [
    "transaksjoner.logTimestamp = pd.to_datetime(transaksjoner.logTimestamp)\n",
    "transaksjoner.head(2)"
   ]
  },
  {
   "cell_type": "code",
   "execution_count": 143,
   "metadata": {
    "tags": []
   },
   "outputs": [
    {
     "data": {
      "text/plain": [
       "id                       int64\n",
       "userId                   int64\n",
       "stockId                  int64\n",
       "groupId                  int64\n",
       "semesterId               int64\n",
       "logTimestamp    datetime64[ns]\n",
       "price                  float64\n",
       "stockName               object\n",
       "volume                 float64\n",
       "groupName               object\n",
       "dtype: object"
      ]
     },
     "execution_count": 143,
     "metadata": {},
     "output_type": "execute_result"
    }
   ],
   "source": [
    "transaksjoner.dtypes"
   ]
  },
  {
   "cell_type": "markdown",
   "metadata": {},
   "source": [
    "### Hvor mange ulike verdier har vi for hver av kolonnene"
   ]
  },
  {
   "cell_type": "code",
   "execution_count": 144,
   "metadata": {
    "tags": []
   },
   "outputs": [
    {
     "data": {
      "text/plain": [
       "id              16706\n",
       "userId            560\n",
       "stockId            80\n",
       "groupId            24\n",
       "semesterId          3\n",
       "logTimestamp    15052\n",
       "price              37\n",
       "stockName          64\n",
       "volume              9\n",
       "groupName          24\n",
       "dtype: int64"
      ]
     },
     "execution_count": 144,
     "metadata": {},
     "output_type": "execute_result"
    }
   ],
   "source": [
    "transaksjoner.nunique()"
   ]
  },
  {
   "cell_type": "markdown",
   "metadata": {},
   "source": [
    "### Litt rart at semesterId har 3 unike verdier, er det ikke?"
   ]
  },
  {
   "cell_type": "code",
   "execution_count": 145,
   "metadata": {
    "tags": []
   },
   "outputs": [
    {
     "data": {
      "text/plain": [
       "Timestamp('2022-03-23 17:08:52')"
      ]
     },
     "execution_count": 145,
     "metadata": {},
     "output_type": "execute_result"
    }
   ],
   "source": [
    "transaksjoner.loc[transaksjoner.semesterId == 1].logTimestamp.min()"
   ]
  },
  {
   "cell_type": "code",
   "execution_count": 146,
   "metadata": {
    "tags": []
   },
   "outputs": [
    {
     "name": "stdout",
     "output_type": "stream",
     "text": [
      "semesterId 1: min: 2022-03-23 17:08:52\n",
      "semesterId 1: max: 2022-07-30 19:55:38\n",
      "semesterId 2: min: 2022-08-04 17:52:04\n",
      "semesterId 2: max: 2022-12-30 15:15:07\n",
      "semesterId 3: min: 2023-01-01 22:30:17\n",
      "semesterId 3: max: 2023-02-19 12:23:18\n"
     ]
    }
   ],
   "source": [
    "first_semester_id_min = transaksjoner.loc[transaksjoner.semesterId == 1].logTimestamp.min()\n",
    "first_semester_id_max = transaksjoner.loc[transaksjoner.semesterId == 1].logTimestamp.max()\n",
    "print(f\"semesterId 1: min: {first_semester_id_min}\")\n",
    "print(f\"semesterId 1: max: {first_semester_id_max}\")\n",
    "\n",
    "second_semester_id_min = transaksjoner.loc[transaksjoner.semesterId == 2].logTimestamp.min()\n",
    "second_semester_id_max = transaksjoner.loc[transaksjoner.semesterId == 2].logTimestamp.max()\n",
    "print(f\"semesterId 2: min: {second_semester_id_min}\")\n",
    "print(f\"semesterId 2: max: {second_semester_id_max}\")\n",
    "\n",
    "third_semester_id_min = transaksjoner.loc[transaksjoner.semesterId == 3].logTimestamp.min()\n",
    "third_semester_id_max = transaksjoner.loc[transaksjoner.semesterId == 3].logTimestamp.max()\n",
    "print(f\"semesterId 3: min: {third_semester_id_min}\")\n",
    "print(f\"semesterId 3: max: {third_semester_id_max}\")"
   ]
  },
  {
   "cell_type": "code",
   "execution_count": 147,
   "metadata": {
    "tags": []
   },
   "outputs": [
    {
     "data": {
      "text/html": [
       "<div>\n",
       "<style scoped>\n",
       "    .dataframe tbody tr th:only-of-type {\n",
       "        vertical-align: middle;\n",
       "    }\n",
       "\n",
       "    .dataframe tbody tr th {\n",
       "        vertical-align: top;\n",
       "    }\n",
       "\n",
       "    .dataframe thead th {\n",
       "        text-align: right;\n",
       "    }\n",
       "</style>\n",
       "<table border=\"1\" class=\"dataframe\">\n",
       "  <thead>\n",
       "    <tr style=\"text-align: right;\">\n",
       "      <th></th>\n",
       "      <th>min</th>\n",
       "      <th>max</th>\n",
       "    </tr>\n",
       "    <tr>\n",
       "      <th>semesterId</th>\n",
       "      <th></th>\n",
       "      <th></th>\n",
       "    </tr>\n",
       "  </thead>\n",
       "  <tbody>\n",
       "    <tr>\n",
       "      <th>1</th>\n",
       "      <td>2022-03-23 17:08:52</td>\n",
       "      <td>2022-07-30 19:55:38</td>\n",
       "    </tr>\n",
       "    <tr>\n",
       "      <th>2</th>\n",
       "      <td>2022-08-04 17:52:04</td>\n",
       "      <td>2022-12-30 15:15:07</td>\n",
       "    </tr>\n",
       "    <tr>\n",
       "      <th>3</th>\n",
       "      <td>2023-01-01 22:30:17</td>\n",
       "      <td>2023-02-19 12:23:18</td>\n",
       "    </tr>\n",
       "  </tbody>\n",
       "</table>\n",
       "</div>"
      ],
      "text/plain": [
       "                           min                 max\n",
       "semesterId                                        \n",
       "1          2022-03-23 17:08:52 2022-07-30 19:55:38\n",
       "2          2022-08-04 17:52:04 2022-12-30 15:15:07\n",
       "3          2023-01-01 22:30:17 2023-02-19 12:23:18"
      ]
     },
     "execution_count": 147,
     "metadata": {},
     "output_type": "execute_result"
    }
   ],
   "source": [
    "transaksjoner.groupby([\"semesterId\"]).logTimestamp.agg([\"min\", \"max\"])"
   ]
  },
  {
   "cell_type": "markdown",
   "metadata": {},
   "source": [
    "## Semesterkolonne\n",
    "Her mangler det informasjon om det er høst/vår semesteret"
   ]
  },
  {
   "cell_type": "code",
   "execution_count": 148,
   "metadata": {
    "tags": []
   },
   "outputs": [
    {
     "data": {
      "text/html": [
       "<div>\n",
       "<style scoped>\n",
       "    .dataframe tbody tr th:only-of-type {\n",
       "        vertical-align: middle;\n",
       "    }\n",
       "\n",
       "    .dataframe tbody tr th {\n",
       "        vertical-align: top;\n",
       "    }\n",
       "\n",
       "    .dataframe thead th {\n",
       "        text-align: right;\n",
       "    }\n",
       "</style>\n",
       "<table border=\"1\" class=\"dataframe\">\n",
       "  <thead>\n",
       "    <tr style=\"text-align: right;\">\n",
       "      <th></th>\n",
       "      <th>id</th>\n",
       "      <th>userId</th>\n",
       "      <th>stockId</th>\n",
       "      <th>groupId</th>\n",
       "      <th>semesterId</th>\n",
       "      <th>logTimestamp</th>\n",
       "      <th>price</th>\n",
       "      <th>stockName</th>\n",
       "      <th>volume</th>\n",
       "      <th>groupName</th>\n",
       "      <th>mnd</th>\n",
       "      <th>semester</th>\n",
       "    </tr>\n",
       "  </thead>\n",
       "  <tbody>\n",
       "    <tr>\n",
       "      <th>0</th>\n",
       "      <td>2</td>\n",
       "      <td>6</td>\n",
       "      <td>7</td>\n",
       "      <td>1</td>\n",
       "      <td>1</td>\n",
       "      <td>2022-03-23 17:08:52</td>\n",
       "      <td>21.0</td>\n",
       "      <td>Coca Cola 0,5</td>\n",
       "      <td>0.5</td>\n",
       "      <td>it.gruppen</td>\n",
       "      <td>3</td>\n",
       "      <td>vår</td>\n",
       "    </tr>\n",
       "    <tr>\n",
       "      <th>1</th>\n",
       "      <td>5</td>\n",
       "      <td>5</td>\n",
       "      <td>7</td>\n",
       "      <td>1</td>\n",
       "      <td>1</td>\n",
       "      <td>2022-03-23 17:33:12</td>\n",
       "      <td>21.0</td>\n",
       "      <td>Coca Cola 0,5</td>\n",
       "      <td>0.5</td>\n",
       "      <td>it.gruppen</td>\n",
       "      <td>3</td>\n",
       "      <td>vår</td>\n",
       "    </tr>\n",
       "  </tbody>\n",
       "</table>\n",
       "</div>"
      ],
      "text/plain": [
       "   id  userId  stockId  groupId  semesterId        logTimestamp  price  \\\n",
       "0   2       6        7        1           1 2022-03-23 17:08:52   21.0   \n",
       "1   5       5        7        1           1 2022-03-23 17:33:12   21.0   \n",
       "\n",
       "       stockName  volume   groupName  mnd semester  \n",
       "0  Coca Cola 0,5     0.5  it.gruppen    3      vår  \n",
       "1  Coca Cola 0,5     0.5  it.gruppen    3      vår  "
      ]
     },
     "execution_count": 148,
     "metadata": {},
     "output_type": "execute_result"
    }
   ],
   "source": [
    "def which_semester(month: int) -> str:\n",
    "    if month <= 6:\n",
    "        return \"vår\"\n",
    "    return \"høst\"\n",
    "\n",
    "transaksjoner[\"mnd\"] = transaksjoner.logTimestamp.dt.month\n",
    "transaksjoner[\"semester\"] = transaksjoner.mnd.apply(which_semester)\n",
    "transaksjoner.head(2)"
   ]
  },
  {
   "cell_type": "markdown",
   "metadata": {},
   "source": [
    "## Legge til kolonner fra eksisterende kolonner"
   ]
  },
  {
   "cell_type": "code",
   "execution_count": null,
   "metadata": {},
   "outputs": [],
   "source": [
    "transaksjoner[\"mva\"] = transaksjoner.price * 0.25"
   ]
  },
  {
   "cell_type": "code",
   "execution_count": null,
   "metadata": {},
   "outputs": [],
   "source": [
    "transaksjoner[\"total_pris\"] = transaksjoner.price + transaksjoner.mva"
   ]
  },
  {
   "cell_type": "code",
   "execution_count": null,
   "metadata": {},
   "outputs": [],
   "source": [
    "markup = 0.1\n",
    "markupfaktor = 1 + markup\n",
    "transaksjoner[\"kost_pris\"] = transaksjoner.price / markupfaktor"
   ]
  },
  {
   "cell_type": "markdown",
   "metadata": {},
   "source": [
    "## Hvor mange observasjoner har vi av hvert produkt"
   ]
  },
  {
   "cell_type": "code",
   "execution_count": 149,
   "metadata": {
    "tags": []
   },
   "outputs": [
    {
     "data": {
      "text/plain": [
       "Red Bull              4515\n",
       "Olden Eple            1289\n",
       "Red Bull Sugarfree    1200\n",
       "Brus 0,3              1113\n",
       "Brus                   989\n",
       "                      ... \n",
       "Sprite 0,33              5\n",
       "Red Bull 0,3             5\n",
       "Lollipop                 3\n",
       "Burn utgått              2\n",
       "Burn 0,33                1\n",
       "Name: stockName, Length: 64, dtype: int64"
      ]
     },
     "execution_count": 149,
     "metadata": {},
     "output_type": "execute_result"
    }
   ],
   "source": [
    "transaksjoner.stockName.value_counts()"
   ]
  },
  {
   "cell_type": "markdown",
   "metadata": {},
   "source": [
    "Avhengig av hva vi er ute etter kan det kanskje være hensiktsmessig å gruppere disse litt mer\n",
    "\n",
    "- F.eks. brus 0.5 og brus\n",
    "- Manuelt arbeid, men det er det ofte når man jobber med datakvalitet"
   ]
  },
  {
   "cell_type": "code",
   "execution_count": 61,
   "metadata": {
    "tags": []
   },
   "outputs": [
    {
     "data": {
      "text/plain": [
       "{'Coca Cola 0,5': 'Coca Cola 0,5',\n",
       " 'Red Bull': 'Red Bull',\n",
       " 'Julebrus': 'Julebrus',\n",
       " 'Eplemost': 'Eplemost',\n",
       " 'Tikronersorama': 'Tikronersorama',\n",
       " 'Olden Eple': 'Olden Eple',\n",
       " 'Coca Cola Zero 0,33': 'Coca Cola Zero 0,33',\n",
       " 'Red Bull Yellow ': 'Red Bull Yellow ',\n",
       " 'Red Bull Sugarfree': 'Red Bull Sugarfree',\n",
       " 'Coca Cola Zero 0,5': 'Coca Cola Zero 0,5',\n",
       " 'Coca Cola 0,33': 'Coca Cola 0,33',\n",
       " 'Burn 0,33': 'Burn 0,33',\n",
       " 'Monster White Ultra': 'Monster White Ultra',\n",
       " 'Brus': 'Brus',\n",
       " 'Brus 0,5': 'Brus 0,5',\n",
       " 'Sjokolade': 'Sjokolade',\n",
       " 'Aass UTEN, Sitron og lime': 'Aass UTEN, Sitron og lime',\n",
       " 'Aass UTEN': 'Aass UTEN',\n",
       " 'Pizza': 'Pizza',\n",
       " 'Bandgenser': 'Bandgenser',\n",
       " 'Red Bull 0,3': 'Red Bull 0,3',\n",
       " 'Nudler': 'Nudler',\n",
       " 'Billett på kryss': 'Billett på kryss',\n",
       " 'Billys Pan Pizza': 'Billys Pan Pizza',\n",
       " 'Appelsin Juice': 'Appelsin Juice',\n",
       " 'Brus 0,3': 'Brus 0,3',\n",
       " 'Fanta': 'Fanta',\n",
       " 'Sprite 0,33': 'Sprite 0,33',\n",
       " 'Olden med kullsyre': 'Olden med kullsyre',\n",
       " 'Monster hvit 0,5': 'Monster hvit 0,5',\n",
       " 'Kaffekapsel': 'Kaffekapsel',\n",
       " 'Coca Cola Glass': 'Coca Cola Glass',\n",
       " 'Coca Cola Zero Glass': 'Coca Cola Zero Glass',\n",
       " 'Utgått vare': 'Utgått vare',\n",
       " 'Sprite 0,5': 'Sprite 0,5',\n",
       " 'Sol 0,33': 'Sol 0,33',\n",
       " 'Farris Bris': 'Farris Bris',\n",
       " 'Burn 0,5': 'Burn 0,5',\n",
       " 'Proteinshake | Scoop': 'Proteinshake | Scoop',\n",
       " 'Powerking': 'Powerking',\n",
       " 'Olden': 'Olden',\n",
       " 'Sprite': 'Sprite',\n",
       " 'Cola': 'Cola',\n",
       " 'Cola Zero': 'Cola Zero',\n",
       " 'Julebrus Hansa': 'Julebrus Hansa',\n",
       " 'Burn': 'Burn',\n",
       " 'Monster': 'Monster',\n",
       " 'Burn utgått': 'Burn utgått',\n",
       " 'Tonic': 'Tonic',\n",
       " 'Lollipop': 'Lollipop',\n",
       " 'Rett-i-koppen': 'Rett-i-koppen',\n",
       " 'Battery No Cal': 'Battery No Cal',\n",
       " 'Solo Boks': 'Solo Boks',\n",
       " 'Pepsi Max': 'Pepsi Max',\n",
       " 'Solrik': 'Solrik',\n",
       " 'Farris Naturell': 'Farris Naturell',\n",
       " 'Pringles': 'Pringles',\n",
       " 'Battery Fresh': 'Battery Fresh',\n",
       " 'Slush uten alkohol': 'Slush uten alkohol',\n",
       " 'Munkholm': 'Munkholm',\n",
       " 'Energidrikk': 'Energidrikk',\n",
       " 'Iste': 'Iste',\n",
       " 'Powerade': 'Powerade',\n",
       " 'Capri Sonne': 'Capri Sonne'}"
      ]
     },
     "execution_count": 61,
     "metadata": {},
     "output_type": "execute_result"
    }
   ],
   "source": [
    "stock_list = transaksjoner.stockName.unique().tolist()\n",
    "stock_dict = dict(zip(stock_list, stock_list))\n",
    "stock_dict"
   ]
  },
  {
   "cell_type": "code",
   "execution_count": 62,
   "metadata": {
    "tags": []
   },
   "outputs": [],
   "source": [
    "updated_stock_dict = {'Coca Cola 0,5': 'Coca Cola 0,5',\n",
    " 'Red Bull': 'Red Bull',\n",
    " 'Julebrus': 'Julebrus',\n",
    " 'Eplemost': 'Eplemost',\n",
    " 'Tikronersorama': 'Tikronersorama',\n",
    " 'Olden Eple': 'Olden Eple',\n",
    " 'Coca Cola Zero 0,33': 'Coca Cola Zero 0,33',\n",
    " 'Red Bull Yellow ': 'Red Bull Yellow ',\n",
    " 'Red Bull Sugarfree': 'Red Bull Sugarfree',\n",
    " 'Coca Cola Zero 0,5': 'Coca Cola Zero 0,5',\n",
    " 'Coca Cola 0,33': 'Coca Cola 0,33',\n",
    " 'Burn 0,33': 'Burn 0,33',\n",
    " 'Monster White Ultra': 'Monster White Ultra',\n",
    " 'Brus': 'Brus 0,5',\n",
    " 'Brus 0,5': 'Brus 0,5',\n",
    " 'Sjokolade': 'Sjokolade',\n",
    " 'Aass UTEN, Sitron og lime': 'Aass UTEN, Sitron og lime',\n",
    " 'Aass UTEN': 'Aass UTEN',\n",
    " 'Pizza': 'Pizza',\n",
    " 'Bandgenser': 'Bandgenser',\n",
    " 'Red Bull 0,3': 'Red Bull 0,3',\n",
    " 'Nudler': 'Nudler',\n",
    " 'Billett på kryss': 'Billett på kryss',\n",
    " 'Billys Pan Pizza': 'Billys Pan Pizza',\n",
    " 'Appelsin Juice': 'Appelsin Juice',\n",
    " 'Brus 0,3': 'Brus 0,3',\n",
    " 'Fanta': 'Fanta',\n",
    " 'Sprite 0,33': 'Sprite 0,33',\n",
    " 'Olden med kullsyre': 'Olden med kullsyre',\n",
    " 'Monster hvit 0,5': 'Monster hvit 0,5',\n",
    " 'Kaffekapsel': 'Kaffekapsel',\n",
    " 'Coca Cola Glass': 'Coca Cola Glass',\n",
    " 'Coca Cola Zero Glass': 'Coca Cola Zero Glass',\n",
    " 'Utgått vare': 'Utgått vare',\n",
    " 'Sprite 0,5': 'Sprite 0,5',\n",
    " 'Sol 0,33': 'Sol 0,33',\n",
    " 'Farris Bris': 'Farris Bris',\n",
    " 'Burn 0,5': 'Burn 0,5',\n",
    " 'Proteinshake | Scoop': 'Proteinshake | Scoop',\n",
    " 'Powerking': 'Powerking',\n",
    " 'Olden': 'Olden',\n",
    " 'Sprite': 'Sprite',\n",
    " 'Cola': 'Cola',\n",
    " 'Cola Zero': 'Cola Zero',\n",
    " 'Julebrus Hansa': 'Julebrus Hansa',\n",
    " 'Burn': 'Burn',\n",
    " 'Monster': 'Monster',\n",
    " 'Burn utgått': 'Burn utgått',\n",
    " 'Tonic': 'Tonic',\n",
    " 'Lollipop': 'Lollipop',\n",
    " 'Rett-i-koppen': 'Rett-i-koppen',\n",
    " 'Battery No Cal': 'Battery No Cal',\n",
    " 'Solo Boks': 'Solo Boks',\n",
    " 'Pepsi Max': 'Pepsi Max',\n",
    " 'Solrik': 'Solrik',\n",
    " 'Farris Naturell': 'Farris Naturell',\n",
    " 'Pringles': 'Pringles',\n",
    " 'Battery Fresh': 'Battery Fresh',\n",
    " 'Slush uten alkohol': 'Slush uten alkohol',\n",
    " 'Munkholm': 'Munkholm',\n",
    " 'Energidrikk': 'Energidrikk',\n",
    " 'Iste': 'Iste',\n",
    " 'Powerade': 'Powerade',\n",
    " 'Capri Sonne': 'Capri Sonne'}"
   ]
  },
  {
   "cell_type": "code",
   "execution_count": 64,
   "metadata": {
    "tags": []
   },
   "outputs": [
    {
     "data": {
      "text/plain": [
       "Red Bull              4515\n",
       "Brus 0,5              1488\n",
       "Olden Eple            1289\n",
       "Red Bull Sugarfree    1200\n",
       "Brus 0,3              1113\n",
       "                      ... \n",
       "Sprite 0,33              5\n",
       "Red Bull 0,3             5\n",
       "Lollipop                 3\n",
       "Burn utgått              2\n",
       "Burn 0,33                1\n",
       "Name: stockName, Length: 63, dtype: int64"
      ]
     },
     "execution_count": 64,
     "metadata": {},
     "output_type": "execute_result"
    }
   ],
   "source": [
    "transaksjoner.stockName = transaksjoner.stockName.map(updated_stock_dict)\n",
    "stock_sold = transaksjoner.stockName.value_counts()\n",
    "stock_sold"
   ]
  },
  {
   "cell_type": "markdown",
   "metadata": {},
   "source": [
    "Siden vi kun endret en ville det gått fortere å kun bytte ut den ene"
   ]
  },
  {
   "cell_type": "code",
   "execution_count": 152,
   "metadata": {
    "tags": []
   },
   "outputs": [],
   "source": [
    "transaksjoner.stockName = transaksjoner.stockName.replace(\"Brus\", \"Brus 0,5\")"
   ]
  },
  {
   "cell_type": "code",
   "execution_count": 65,
   "metadata": {
    "tags": []
   },
   "outputs": [
    {
     "data": {
      "text/plain": [
       "Red Bull               4515\n",
       "Brus 0,5               1488\n",
       "Olden Eple             1289\n",
       "Red Bull Sugarfree     1200\n",
       "Brus 0,3               1113\n",
       "Sjokolade               690\n",
       "Coca Cola Zero 0,33     653\n",
       "Monster hvit 0,5        468\n",
       "Julebrus                452\n",
       "Coca Cola Zero 0,5      444\n",
       "Name: stockName, dtype: int64"
      ]
     },
     "execution_count": 65,
     "metadata": {},
     "output_type": "execute_result"
    }
   ],
   "source": [
    "stock_sold[:10]"
   ]
  },
  {
   "cell_type": "markdown",
   "metadata": {},
   "source": [
    "## Julebrus\n",
    "\n",
    "Det selges en del julebrus la oss se nærmere på det"
   ]
  },
  {
   "cell_type": "code",
   "execution_count": 72,
   "metadata": {
    "tags": []
   },
   "outputs": [
    {
     "data": {
      "text/html": [
       "<div>\n",
       "<style scoped>\n",
       "    .dataframe tbody tr th:only-of-type {\n",
       "        vertical-align: middle;\n",
       "    }\n",
       "\n",
       "    .dataframe tbody tr th {\n",
       "        vertical-align: top;\n",
       "    }\n",
       "\n",
       "    .dataframe thead th {\n",
       "        text-align: right;\n",
       "    }\n",
       "</style>\n",
       "<table border=\"1\" class=\"dataframe\">\n",
       "  <thead>\n",
       "    <tr style=\"text-align: right;\">\n",
       "      <th></th>\n",
       "      <th>id</th>\n",
       "      <th>userId</th>\n",
       "      <th>stockId</th>\n",
       "      <th>groupId</th>\n",
       "      <th>semesterId</th>\n",
       "      <th>logTimestamp</th>\n",
       "      <th>price</th>\n",
       "      <th>stockName</th>\n",
       "      <th>volume</th>\n",
       "      <th>groupName</th>\n",
       "      <th>mnd</th>\n",
       "      <th>semester</th>\n",
       "    </tr>\n",
       "  </thead>\n",
       "  <tbody>\n",
       "    <tr>\n",
       "      <th>379</th>\n",
       "      <td>26</td>\n",
       "      <td>6</td>\n",
       "      <td>10</td>\n",
       "      <td>1</td>\n",
       "      <td>1</td>\n",
       "      <td>2022-03-23 19:52:06</td>\n",
       "      <td>15.0</td>\n",
       "      <td>Julebrus</td>\n",
       "      <td>0.33</td>\n",
       "      <td>it.gruppen</td>\n",
       "      <td>3</td>\n",
       "      <td>vår</td>\n",
       "    </tr>\n",
       "    <tr>\n",
       "      <th>380</th>\n",
       "      <td>51</td>\n",
       "      <td>6</td>\n",
       "      <td>10</td>\n",
       "      <td>1</td>\n",
       "      <td>1</td>\n",
       "      <td>2022-03-24 16:46:33</td>\n",
       "      <td>15.0</td>\n",
       "      <td>Julebrus</td>\n",
       "      <td>0.33</td>\n",
       "      <td>it.gruppen</td>\n",
       "      <td>3</td>\n",
       "      <td>vår</td>\n",
       "    </tr>\n",
       "  </tbody>\n",
       "</table>\n",
       "</div>"
      ],
      "text/plain": [
       "     id  userId  stockId  groupId  semesterId        logTimestamp  price  \\\n",
       "379  26       6       10        1           1 2022-03-23 19:52:06   15.0   \n",
       "380  51       6       10        1           1 2022-03-24 16:46:33   15.0   \n",
       "\n",
       "    stockName  volume   groupName  mnd semester  \n",
       "379  Julebrus    0.33  it.gruppen    3      vår  \n",
       "380  Julebrus    0.33  it.gruppen    3      vår  "
      ]
     },
     "execution_count": 72,
     "metadata": {},
     "output_type": "execute_result"
    }
   ],
   "source": [
    "julebrus = transaksjoner.loc[transaksjoner.stockName == \"Julebrus\"]\n",
    "julebrus.head(2)"
   ]
  },
  {
   "cell_type": "code",
   "execution_count": 73,
   "metadata": {
    "tags": []
   },
   "outputs": [
    {
     "data": {
      "text/plain": [
       "semester\n",
       "høst    411\n",
       "vår      41\n",
       "Name: stockName, dtype: int64"
      ]
     },
     "execution_count": 73,
     "metadata": {},
     "output_type": "execute_result"
    }
   ],
   "source": [
    "julebrus.groupby([\"semester\"]).stockName.count()"
   ]
  },
  {
   "cell_type": "code",
   "execution_count": 74,
   "metadata": {
    "tags": []
   },
   "outputs": [
    {
     "data": {
      "text/plain": [
       "array([15., 16., 25., 20., 17.])"
      ]
     },
     "execution_count": 74,
     "metadata": {},
     "output_type": "execute_result"
    }
   ],
   "source": [
    "julebrus.price.unique()"
   ]
  },
  {
   "cell_type": "code",
   "execution_count": 75,
   "metadata": {
    "tags": []
   },
   "outputs": [
    {
     "data": {
      "text/plain": [
       "semester\n",
       "høst    [15.0, 16.0, 25.0, 20.0, 17.0]\n",
       "vår           [15.0, 25.0, 20.0, 16.0]\n",
       "Name: price, dtype: object"
      ]
     },
     "execution_count": 75,
     "metadata": {},
     "output_type": "execute_result"
    }
   ],
   "source": [
    "julebrus.groupby([\"semester\"]).price.unique()"
   ]
  },
  {
   "cell_type": "code",
   "execution_count": 76,
   "metadata": {
    "tags": []
   },
   "outputs": [
    {
     "data": {
      "text/plain": [
       "semester  price\n",
       "høst      15.0     236\n",
       "          16.0     112\n",
       "          17.0      44\n",
       "          20.0      16\n",
       "          25.0       3\n",
       "vår       15.0      20\n",
       "          25.0      17\n",
       "          16.0       3\n",
       "          20.0       1\n",
       "Name: price, dtype: int64"
      ]
     },
     "execution_count": 76,
     "metadata": {},
     "output_type": "execute_result"
    }
   ],
   "source": [
    "julebrus.groupby([\"semester\"]).price.value_counts()"
   ]
  },
  {
   "cell_type": "code",
   "execution_count": 81,
   "metadata": {
    "tags": []
   },
   "outputs": [
    {
     "data": {
      "text/html": [
       "<div>\n",
       "<style scoped>\n",
       "    .dataframe tbody tr th:only-of-type {\n",
       "        vertical-align: middle;\n",
       "    }\n",
       "\n",
       "    .dataframe tbody tr th {\n",
       "        vertical-align: top;\n",
       "    }\n",
       "\n",
       "    .dataframe thead th {\n",
       "        text-align: right;\n",
       "    }\n",
       "</style>\n",
       "<table border=\"1\" class=\"dataframe\">\n",
       "  <thead>\n",
       "    <tr style=\"text-align: right;\">\n",
       "      <th>semester</th>\n",
       "      <th>høst</th>\n",
       "      <th>vår</th>\n",
       "    </tr>\n",
       "    <tr>\n",
       "      <th>price</th>\n",
       "      <th></th>\n",
       "      <th></th>\n",
       "    </tr>\n",
       "  </thead>\n",
       "  <tbody>\n",
       "    <tr>\n",
       "      <th>15.0</th>\n",
       "      <td>236</td>\n",
       "      <td>20</td>\n",
       "    </tr>\n",
       "    <tr>\n",
       "      <th>16.0</th>\n",
       "      <td>112</td>\n",
       "      <td>3</td>\n",
       "    </tr>\n",
       "    <tr>\n",
       "      <th>17.0</th>\n",
       "      <td>44</td>\n",
       "      <td>0</td>\n",
       "    </tr>\n",
       "    <tr>\n",
       "      <th>20.0</th>\n",
       "      <td>16</td>\n",
       "      <td>1</td>\n",
       "    </tr>\n",
       "    <tr>\n",
       "      <th>25.0</th>\n",
       "      <td>3</td>\n",
       "      <td>17</td>\n",
       "    </tr>\n",
       "  </tbody>\n",
       "</table>\n",
       "</div>"
      ],
      "text/plain": [
       "semester  høst  vår\n",
       "price              \n",
       "15.0       236   20\n",
       "16.0       112    3\n",
       "17.0        44    0\n",
       "20.0        16    1\n",
       "25.0         3   17"
      ]
     },
     "execution_count": 81,
     "metadata": {},
     "output_type": "execute_result"
    }
   ],
   "source": [
    "pd.crosstab(julebrus.price, julebrus.semester)"
   ]
  },
  {
   "cell_type": "code",
   "execution_count": 125,
   "metadata": {
    "tags": []
   },
   "outputs": [
    {
     "data": {
      "text/html": [
       "<div>\n",
       "<style scoped>\n",
       "    .dataframe tbody tr th:only-of-type {\n",
       "        vertical-align: middle;\n",
       "    }\n",
       "\n",
       "    .dataframe tbody tr th {\n",
       "        vertical-align: top;\n",
       "    }\n",
       "\n",
       "    .dataframe thead th {\n",
       "        text-align: right;\n",
       "    }\n",
       "</style>\n",
       "<table border=\"1\" class=\"dataframe\">\n",
       "  <thead>\n",
       "    <tr style=\"text-align: right;\">\n",
       "      <th>semester</th>\n",
       "      <th>høst</th>\n",
       "      <th>vår</th>\n",
       "    </tr>\n",
       "    <tr>\n",
       "      <th>price</th>\n",
       "      <th></th>\n",
       "      <th></th>\n",
       "    </tr>\n",
       "  </thead>\n",
       "  <tbody>\n",
       "    <tr>\n",
       "      <th>15.0</th>\n",
       "      <td>0.574209</td>\n",
       "      <td>0.487805</td>\n",
       "    </tr>\n",
       "    <tr>\n",
       "      <th>16.0</th>\n",
       "      <td>0.272506</td>\n",
       "      <td>0.073171</td>\n",
       "    </tr>\n",
       "    <tr>\n",
       "      <th>17.0</th>\n",
       "      <td>0.107056</td>\n",
       "      <td>0.000000</td>\n",
       "    </tr>\n",
       "    <tr>\n",
       "      <th>20.0</th>\n",
       "      <td>0.038929</td>\n",
       "      <td>0.024390</td>\n",
       "    </tr>\n",
       "    <tr>\n",
       "      <th>25.0</th>\n",
       "      <td>0.007299</td>\n",
       "      <td>0.414634</td>\n",
       "    </tr>\n",
       "  </tbody>\n",
       "</table>\n",
       "</div>"
      ],
      "text/plain": [
       "semester      høst       vår\n",
       "price                       \n",
       "15.0      0.574209  0.487805\n",
       "16.0      0.272506  0.073171\n",
       "17.0      0.107056  0.000000\n",
       "20.0      0.038929  0.024390\n",
       "25.0      0.007299  0.414634"
      ]
     },
     "execution_count": 125,
     "metadata": {},
     "output_type": "execute_result"
    }
   ],
   "source": [
    "pd.crosstab(julebrus.price, julebrus.semester, normalize=\"columns\")"
   ]
  },
  {
   "cell_type": "code",
   "execution_count": 126,
   "metadata": {
    "tags": []
   },
   "outputs": [
    {
     "data": {
      "text/html": [
       "<style type=\"text/css\">\n",
       "</style>\n",
       "<table id=\"T_49128\">\n",
       "  <thead>\n",
       "    <tr>\n",
       "      <th class=\"index_name level0\" >semester</th>\n",
       "      <th id=\"T_49128_level0_col0\" class=\"col_heading level0 col0\" >høst</th>\n",
       "      <th id=\"T_49128_level0_col1\" class=\"col_heading level0 col1\" >vår</th>\n",
       "    </tr>\n",
       "    <tr>\n",
       "      <th class=\"index_name level0\" >price</th>\n",
       "      <th class=\"blank col0\" >&nbsp;</th>\n",
       "      <th class=\"blank col1\" >&nbsp;</th>\n",
       "    </tr>\n",
       "  </thead>\n",
       "  <tbody>\n",
       "    <tr>\n",
       "      <th id=\"T_49128_level0_row0\" class=\"row_heading level0 row0\" >kr 15</th>\n",
       "      <td id=\"T_49128_row0_col0\" class=\"data row0 col0\" >57%</td>\n",
       "      <td id=\"T_49128_row0_col1\" class=\"data row0 col1\" >49%</td>\n",
       "    </tr>\n",
       "    <tr>\n",
       "      <th id=\"T_49128_level0_row1\" class=\"row_heading level0 row1\" >kr 16</th>\n",
       "      <td id=\"T_49128_row1_col0\" class=\"data row1 col0\" >27%</td>\n",
       "      <td id=\"T_49128_row1_col1\" class=\"data row1 col1\" >7%</td>\n",
       "    </tr>\n",
       "    <tr>\n",
       "      <th id=\"T_49128_level0_row2\" class=\"row_heading level0 row2\" >kr 17</th>\n",
       "      <td id=\"T_49128_row2_col0\" class=\"data row2 col0\" >11%</td>\n",
       "      <td id=\"T_49128_row2_col1\" class=\"data row2 col1\" >0%</td>\n",
       "    </tr>\n",
       "    <tr>\n",
       "      <th id=\"T_49128_level0_row3\" class=\"row_heading level0 row3\" >kr 20</th>\n",
       "      <td id=\"T_49128_row3_col0\" class=\"data row3 col0\" >4%</td>\n",
       "      <td id=\"T_49128_row3_col1\" class=\"data row3 col1\" >2%</td>\n",
       "    </tr>\n",
       "    <tr>\n",
       "      <th id=\"T_49128_level0_row4\" class=\"row_heading level0 row4\" >kr 25</th>\n",
       "      <td id=\"T_49128_row4_col0\" class=\"data row4 col0\" >1%</td>\n",
       "      <td id=\"T_49128_row4_col1\" class=\"data row4 col1\" >41%</td>\n",
       "    </tr>\n",
       "  </tbody>\n",
       "</table>\n"
      ],
      "text/plain": [
       "<pandas.io.formats.style.Styler at 0x126a27760>"
      ]
     },
     "execution_count": 126,
     "metadata": {},
     "output_type": "execute_result"
    }
   ],
   "source": [
    "julebrus_pris_semester = pd.crosstab(julebrus.price, julebrus.semester, normalize=\"columns\")\n",
    "julebrus_pris_semester.style.format(\"{:.0%}\").format_index(\"kr {:.0f}\")"
   ]
  },
  {
   "cell_type": "markdown",
   "metadata": {},
   "source": [
    "## Saving DataFrame"
   ]
  },
  {
   "cell_type": "code",
   "execution_count": 138,
   "metadata": {
    "tags": []
   },
   "outputs": [],
   "source": [
    "transaksjoner.to_csv(\"../data/mer_utfyllende_transaksjon.csv\", index=False)"
   ]
  }
 ],
 "metadata": {
  "celltoolbar": "Slideshow",
  "kernelspec": {
   "display_name": "Python 3 (ipykernel)",
   "language": "python",
   "name": "python3"
  },
  "language_info": {
   "codemirror_mode": {
    "name": "ipython",
    "version": 3
   },
   "file_extension": ".py",
   "mimetype": "text/x-python",
   "name": "python",
   "nbconvert_exporter": "python",
   "pygments_lexer": "ipython3",
   "version": "3.10.9"
  }
 },
 "nbformat": 4,
 "nbformat_minor": 4
}
