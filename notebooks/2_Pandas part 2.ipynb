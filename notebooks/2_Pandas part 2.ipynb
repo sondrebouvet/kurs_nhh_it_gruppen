{
 "cells": [
  {
   "cell_type": "markdown",
   "metadata": {},
   "source": [
    "## Importer Pakker"
   ]
  },
  {
   "cell_type": "code",
   "execution_count": null,
   "metadata": {
    "tags": []
   },
   "outputs": [],
   "source": [
    "import pandas as pd"
   ]
  },
  {
   "cell_type": "code",
   "execution_count": null,
   "metadata": {
    "tags": []
   },
   "outputs": [],
   "source": [
    "transaksjoner = pd.read_csv(\"../data/utfyllende_transaksjon.csv\")"
   ]
  },
  {
   "cell_type": "markdown",
   "metadata": {
    "tags": []
   },
   "source": [
    "## Dataformat\n",
    "\n",
    "La oss sjekke dataformatet på kolonnene"
   ]
  },
  {
   "cell_type": "code",
   "execution_count": null,
   "metadata": {
    "tags": []
   },
   "outputs": [],
   "source": [
    "transaksjoner.dtypes"
   ]
  },
  {
   "cell_type": "code",
   "execution_count": null,
   "metadata": {
    "tags": []
   },
   "outputs": [],
   "source": [
    "transaksjoner.logTimestamp = pd.to_datetime(transaksjoner.logTimestamp)\n",
    "transaksjoner.head(2)"
   ]
  },
  {
   "cell_type": "code",
   "execution_count": null,
   "metadata": {
    "tags": []
   },
   "outputs": [],
   "source": [
    "transaksjoner.dtypes"
   ]
  },
  {
   "cell_type": "markdown",
   "metadata": {},
   "source": [
    "### Hvor mange ulike verdier har vi for hver av kolonnene"
   ]
  },
  {
   "cell_type": "code",
   "execution_count": null,
   "metadata": {
    "tags": []
   },
   "outputs": [],
   "source": [
    "transaksjoner.nunique()"
   ]
  },
  {
   "cell_type": "markdown",
   "metadata": {},
   "source": [
    "### Litt rart at semesterId har 3 unike verdier, er det ikke?"
   ]
  },
  {
   "cell_type": "code",
   "execution_count": null,
   "metadata": {
    "tags": []
   },
   "outputs": [],
   "source": [
    "transaksjoner.loc[transaksjoner.semesterId == 1].logTimestamp.min()"
   ]
  },
  {
   "cell_type": "code",
   "execution_count": null,
   "metadata": {
    "tags": []
   },
   "outputs": [],
   "source": [
    "first_semester_id_min = transaksjoner.loc[transaksjoner.semesterId == 1].logTimestamp.min()\n",
    "first_semester_id_max = transaksjoner.loc[transaksjoner.semesterId == 1].logTimestamp.max()\n",
    "print(f\"semesterId 1: min: {first_semester_id_min}\")\n",
    "print(f\"semesterId 1: max: {first_semester_id_max}\")\n",
    "\n",
    "second_semester_id_min = transaksjoner.loc[transaksjoner.semesterId == 2].logTimestamp.min()\n",
    "second_semester_id_max = transaksjoner.loc[transaksjoner.semesterId == 2].logTimestamp.max()\n",
    "print(f\"semesterId 2: min: {second_semester_id_min}\")\n",
    "print(f\"semesterId 2: max: {second_semester_id_max}\")\n",
    "\n",
    "third_semester_id_min = transaksjoner.loc[transaksjoner.semesterId == 3].logTimestamp.min()\n",
    "third_semester_id_max = transaksjoner.loc[transaksjoner.semesterId == 3].logTimestamp.max()\n",
    "print(f\"semesterId 3: min: {third_semester_id_min}\")\n",
    "print(f\"semesterId 3: max: {third_semester_id_max}\")"
   ]
  },
  {
   "cell_type": "code",
   "execution_count": null,
   "metadata": {
    "tags": []
   },
   "outputs": [],
   "source": [
    "transaksjoner.groupby([\"semesterId\"]).logTimestamp.agg([\"min\", \"max\"])"
   ]
  },
  {
   "cell_type": "markdown",
   "metadata": {},
   "source": [
    "## Semesterkolonne\n",
    "Her mangler det informasjon om det er høst/vår semesteret"
   ]
  },
  {
   "cell_type": "code",
   "execution_count": null,
   "metadata": {
    "tags": []
   },
   "outputs": [],
   "source": [
    "def which_semester(month: int) -> str:\n",
    "    if month <= 6:\n",
    "        return \"vår\"\n",
    "    return \"høst\"\n",
    "\n",
    "transaksjoner[\"mnd\"] = transaksjoner.logTimestamp.dt.month\n",
    "transaksjoner[\"semester\"] = transaksjoner.mnd.apply(which_semester)\n",
    "transaksjoner.head(2)"
   ]
  },
  {
   "cell_type": "markdown",
   "metadata": {},
   "source": [
    "## Legge til kolonner fra eksisterende kolonner"
   ]
  },
  {
   "cell_type": "code",
   "execution_count": null,
   "metadata": {},
   "outputs": [],
   "source": [
    "transaksjoner[\"mva\"] = transaksjoner.price * 0.25"
   ]
  },
  {
   "cell_type": "code",
   "execution_count": null,
   "metadata": {},
   "outputs": [],
   "source": [
    "transaksjoner[\"total_pris\"] = transaksjoner.price + transaksjoner.mva"
   ]
  },
  {
   "cell_type": "code",
   "execution_count": null,
   "metadata": {},
   "outputs": [],
   "source": [
    "markup = 0.1\n",
    "markupfaktor = 1 + markup\n",
    "transaksjoner[\"kost_pris\"] = transaksjoner.price / markupfaktor"
   ]
  },
  {
   "cell_type": "markdown",
   "metadata": {},
   "source": [
    "## Hvor mange observasjoner har vi av hvert produkt"
   ]
  },
  {
   "cell_type": "code",
   "execution_count": null,
   "metadata": {
    "tags": []
   },
   "outputs": [],
   "source": [
    "transaksjoner.stockName.value_counts()"
   ]
  },
  {
   "cell_type": "markdown",
   "metadata": {},
   "source": [
    "Avhengig av hva vi er ute etter kan det kanskje være hensiktsmessig å gruppere disse litt mer\n",
    "\n",
    "- F.eks. brus 0.5 og brus\n",
    "- Manuelt arbeid, men det er det ofte når man jobber med datakvalitet"
   ]
  },
  {
   "cell_type": "code",
   "execution_count": null,
   "metadata": {
    "tags": []
   },
   "outputs": [],
   "source": [
    "stock_list = transaksjoner.stockName.unique().tolist()\n",
    "stock_dict = dict(zip(stock_list, stock_list))\n",
    "stock_dict"
   ]
  },
  {
   "cell_type": "code",
   "execution_count": null,
   "metadata": {
    "tags": []
   },
   "outputs": [],
   "source": [
    "updated_stock_dict = {'Coca Cola 0,5': 'Coca Cola 0,5',\n",
    " 'Red Bull': 'Red Bull',\n",
    " 'Julebrus': 'Julebrus',\n",
    " 'Eplemost': 'Eplemost',\n",
    " 'Tikronersorama': 'Tikronersorama',\n",
    " 'Olden Eple': 'Olden Eple',\n",
    " 'Coca Cola Zero 0,33': 'Coca Cola Zero 0,33',\n",
    " 'Red Bull Yellow ': 'Red Bull Yellow ',\n",
    " 'Red Bull Sugarfree': 'Red Bull Sugarfree',\n",
    " 'Coca Cola Zero 0,5': 'Coca Cola Zero 0,5',\n",
    " 'Coca Cola 0,33': 'Coca Cola 0,33',\n",
    " 'Burn 0,33': 'Burn 0,33',\n",
    " 'Monster White Ultra': 'Monster White Ultra',\n",
    " 'Brus': 'Brus 0,5',\n",
    " 'Brus 0,5': 'Brus 0,5',\n",
    " 'Sjokolade': 'Sjokolade',\n",
    " 'Aass UTEN, Sitron og lime': 'Aass UTEN, Sitron og lime',\n",
    " 'Aass UTEN': 'Aass UTEN',\n",
    " 'Pizza': 'Pizza',\n",
    " 'Bandgenser': 'Bandgenser',\n",
    " 'Red Bull 0,3': 'Red Bull 0,3',\n",
    " 'Nudler': 'Nudler',\n",
    " 'Billett på kryss': 'Billett på kryss',\n",
    " 'Billys Pan Pizza': 'Billys Pan Pizza',\n",
    " 'Appelsin Juice': 'Appelsin Juice',\n",
    " 'Brus 0,3': 'Brus 0,3',\n",
    " 'Fanta': 'Fanta',\n",
    " 'Sprite 0,33': 'Sprite 0,33',\n",
    " 'Olden med kullsyre': 'Olden med kullsyre',\n",
    " 'Monster hvit 0,5': 'Monster hvit 0,5',\n",
    " 'Kaffekapsel': 'Kaffekapsel',\n",
    " 'Coca Cola Glass': 'Coca Cola Glass',\n",
    " 'Coca Cola Zero Glass': 'Coca Cola Zero Glass',\n",
    " 'Utgått vare': 'Utgått vare',\n",
    " 'Sprite 0,5': 'Sprite 0,5',\n",
    " 'Sol 0,33': 'Sol 0,33',\n",
    " 'Farris Bris': 'Farris Bris',\n",
    " 'Burn 0,5': 'Burn 0,5',\n",
    " 'Proteinshake | Scoop': 'Proteinshake | Scoop',\n",
    " 'Powerking': 'Powerking',\n",
    " 'Olden': 'Olden',\n",
    " 'Sprite': 'Sprite',\n",
    " 'Cola': 'Cola',\n",
    " 'Cola Zero': 'Cola Zero',\n",
    " 'Julebrus Hansa': 'Julebrus Hansa',\n",
    " 'Burn': 'Burn',\n",
    " 'Monster': 'Monster',\n",
    " 'Burn utgått': 'Burn utgått',\n",
    " 'Tonic': 'Tonic',\n",
    " 'Lollipop': 'Lollipop',\n",
    " 'Rett-i-koppen': 'Rett-i-koppen',\n",
    " 'Battery No Cal': 'Battery No Cal',\n",
    " 'Solo Boks': 'Solo Boks',\n",
    " 'Pepsi Max': 'Pepsi Max',\n",
    " 'Solrik': 'Solrik',\n",
    " 'Farris Naturell': 'Farris Naturell',\n",
    " 'Pringles': 'Pringles',\n",
    " 'Battery Fresh': 'Battery Fresh',\n",
    " 'Slush uten alkohol': 'Slush uten alkohol',\n",
    " 'Munkholm': 'Munkholm',\n",
    " 'Energidrikk': 'Energidrikk',\n",
    " 'Iste': 'Iste',\n",
    " 'Powerade': 'Powerade',\n",
    " 'Capri Sonne': 'Capri Sonne'}"
   ]
  },
  {
   "cell_type": "code",
   "execution_count": null,
   "metadata": {
    "tags": []
   },
   "outputs": [],
   "source": [
    "transaksjoner.stockName = transaksjoner.stockName.map(updated_stock_dict)\n",
    "stock_sold = transaksjoner.stockName.value_counts()\n",
    "stock_sold"
   ]
  },
  {
   "cell_type": "markdown",
   "metadata": {},
   "source": [
    "Siden vi kun endret en ville det gått fortere å kun bytte ut den ene"
   ]
  },
  {
   "cell_type": "code",
   "execution_count": null,
   "metadata": {
    "tags": []
   },
   "outputs": [],
   "source": [
    "transaksjoner.stockName = transaksjoner.stockName.replace(\"Brus\", \"Brus 0,5\")"
   ]
  },
  {
   "cell_type": "code",
   "execution_count": null,
   "metadata": {
    "tags": []
   },
   "outputs": [],
   "source": [
    "stock_sold[:10]"
   ]
  },
  {
   "cell_type": "markdown",
   "metadata": {},
   "source": [
    "## Julebrus\n",
    "\n",
    "Det selges en del julebrus la oss se nærmere på det"
   ]
  },
  {
   "cell_type": "code",
   "execution_count": null,
   "metadata": {
    "tags": []
   },
   "outputs": [],
   "source": [
    "julebrus = transaksjoner.loc[transaksjoner.stockName == \"Julebrus\"]\n",
    "julebrus.head(2)"
   ]
  },
  {
   "cell_type": "code",
   "execution_count": null,
   "metadata": {
    "tags": []
   },
   "outputs": [],
   "source": [
    "julebrus.groupby([\"semester\"]).stockName.count()"
   ]
  },
  {
   "cell_type": "code",
   "execution_count": null,
   "metadata": {
    "tags": []
   },
   "outputs": [],
   "source": [
    "julebrus.price.unique()"
   ]
  },
  {
   "cell_type": "code",
   "execution_count": null,
   "metadata": {
    "tags": []
   },
   "outputs": [],
   "source": [
    "julebrus.groupby([\"semester\"]).price.unique()"
   ]
  },
  {
   "cell_type": "code",
   "execution_count": null,
   "metadata": {
    "tags": []
   },
   "outputs": [],
   "source": [
    "julebrus.groupby([\"semester\"]).price.value_counts()"
   ]
  },
  {
   "cell_type": "code",
   "execution_count": null,
   "metadata": {
    "tags": []
   },
   "outputs": [],
   "source": [
    "pd.crosstab(julebrus.price, julebrus.semester)"
   ]
  },
  {
   "cell_type": "code",
   "execution_count": null,
   "metadata": {
    "tags": []
   },
   "outputs": [],
   "source": [
    "pd.crosstab(julebrus.price, julebrus.semester, normalize=\"columns\")"
   ]
  },
  {
   "cell_type": "code",
   "execution_count": null,
   "metadata": {
    "tags": []
   },
   "outputs": [],
   "source": [
    "julebrus_pris_semester = pd.crosstab(julebrus.price, julebrus.semester, normalize=\"columns\")\n",
    "julebrus_pris_semester.style.format(\"{:.0%}\").format_index(\"kr {:.0f}\")"
   ]
  },
  {
   "cell_type": "markdown",
   "metadata": {},
   "source": [
    "## Saving DataFrame"
   ]
  },
  {
   "cell_type": "code",
   "execution_count": null,
   "metadata": {
    "tags": []
   },
   "outputs": [],
   "source": [
    "transaksjoner.to_csv(\"../data/mer_utfyllende_transaksjon.csv\", index=False)"
   ]
  }
 ],
 "metadata": {
  "celltoolbar": "Slideshow",
  "kernelspec": {
   "display_name": "Python 3 (ipykernel)",
   "language": "python",
   "name": "python3"
  },
  "language_info": {
   "codemirror_mode": {
    "name": "ipython",
    "version": 3
   },
   "file_extension": ".py",
   "mimetype": "text/x-python",
   "name": "python",
   "nbconvert_exporter": "python",
   "pygments_lexer": "ipython3",
   "version": "3.10.9"
  }
 },
 "nbformat": 4,
 "nbformat_minor": 4
}
