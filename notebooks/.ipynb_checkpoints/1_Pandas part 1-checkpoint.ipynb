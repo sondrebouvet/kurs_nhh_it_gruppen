{
 "cells": [
  {
   "cell_type": "markdown",
   "metadata": {
    "slideshow": {
     "slide_type": "slide"
    }
   },
   "source": [
    "# Pandas \n",
    "\n",
    "**Pandas**, short for **Python Data Analysis Library**, is the most preferred and widely used tool in data munging/wrangling. \n",
    "\n",
    "Pandas provides high-level data structures and functions that are designed to make working with structured or tabular data fast, easy and straigntforward. Pandas blends the high-performance, array-computing ideas of NumPy with the flexible data manipulation capabilities of spreadsheets and relational databases (such as SQL). \n",
    "\n",
    "It provides sophisticated indexing functionality to make it easy to reshape, slice and dice, perform aggregations, and select subsets of data. Since data manipulation, preparation, and cleaning is such an important skill in data analysis, pandas is one of the primary focuses of this course.\n",
    "\n",
    "_(source: Python for Data Analysis, Wes McKinney)_\n",
    "\n",
    "More information about pandas package, including documentation and examples, can be found here: https://pandas.pydata.org/\n"
   ]
  },
  {
   "cell_type": "code",
   "execution_count": null,
   "metadata": {
    "slideshow": {
     "slide_type": "slide"
    },
    "tags": []
   },
   "outputs": [],
   "source": [
    "# again, we will start by importing pandas package\n",
    "\n",
    "# commonly used \"nickname\" for pandas is pd \n",
    "\n",
    "import pandas as pd"
   ]
  },
  {
   "attachments": {
    "dataframe.png": {
     "image/png": "[encoded data removed]"
    }
   },
   "cell_type": "markdown",
   "metadata": {
    "slideshow": {
     "slide_type": "slide"
    }
   },
   "source": [
    "## DataFrames\n",
    "\n",
    "**DataFrame** is a Python object with rows and columns that looks very similar to table in Excel or in a traditional SQL database:\n",
    "\n",
    "<div>\n",
    "<img src=\"attachment:dataframe.png\" width=\"400\"/>\n",
    "</div>\n",
    "\n",
    "Every row in a dataframe represents one observation (or data point) and every column represents one variable. \n",
    "\n",
    "If you're working with data, you will use data frames. \n",
    "\n",
    "There is more than one way to crate a data frame, and we will start by creating data frame from the scratch. "
   ]
  },
  {
   "cell_type": "code",
   "execution_count": null,
   "metadata": {
    "slideshow": {
     "slide_type": "slide"
    },
    "tags": []
   },
   "outputs": [],
   "source": [
    "# creating a data frame that's shown on picture\n",
    "\n",
    "# we start by creating a dictionary with variable names as keys \n",
    "# and lists of values for those variables as values \n",
    "\n",
    "data = {\n",
    "    'Name': ['John', 'Luke', 'Mia', 'Annie'], \n",
    "    'Age':[39, 17, 65, 27], \n",
    "    'Gender':['M', 'M', 'F', 'F'], \n",
    "    'Country':['USA', 'UK', 'UK', 'UK'],\n",
    "    'Children':[1, 0, 4, 2], \n",
    "    'Car Brand':['Audi', 'Toyota', 'Audi', 'BMW']\n",
    "}\n",
    "\n",
    "# Create the pandas DataFrame \n",
    "\n",
    "df = pd.DataFrame(data)\n",
    "\n",
    "df # to output our data frame, we just write a dataframe name"
   ]
  },
  {
   "cell_type": "markdown",
   "metadata": {
    "slideshow": {
     "slide_type": "slide"
    }
   },
   "source": [
    "There are many more ways to create a data frame from scratch. You can read more about it here: https://www.geeksforgeeks.org/different-ways-to-create-pandas-dataframe/\n",
    "\n",
    "However, usually you will have too big dataset to create DF manually. That's why the most common create a data frame is to read data from a database or a file. \n",
    "\n",
    "We will cover importing data from different files in Pandas part 2."
   ]
  },
  {
   "cell_type": "markdown",
   "metadata": {
    "slideshow": {
     "slide_type": "slide"
    }
   },
   "source": [
    "## Index \n",
    "\n",
    "Index in dataframe is an unique identifier of each row, that’s how any data point across the dataframe can be accessed. \n",
    "\n",
    "Often you will have another unique identifier in your dataframe (personnummer, employee id, transaction number...), and you can set that variable as index. "
   ]
  },
  {
   "cell_type": "code",
   "execution_count": null,
   "metadata": {
    "slideshow": {
     "slide_type": "slide"
    },
    "tags": []
   },
   "outputs": [],
   "source": [
    "# setting variable 'Name' as index using set_index(function)\n",
    "\n",
    "df = df.set_index('Name')\n",
    "\n",
    "df"
   ]
  },
  {
   "cell_type": "code",
   "execution_count": null,
   "metadata": {
    "slideshow": {
     "slide_type": "slide"
    },
    "tags": []
   },
   "outputs": [],
   "source": [
    "# and we can always reset index back to numbers 0,1,2,3...\n",
    "\n",
    "df = df.reset_index()\n",
    "\n",
    "df"
   ]
  },
  {
   "cell_type": "markdown",
   "metadata": {},
   "source": [
    "### Date Range"
   ]
  },
  {
   "cell_type": "code",
   "execution_count": null,
   "metadata": {
    "tags": []
   },
   "outputs": [],
   "source": [
    "pd.date_range(start=\"2023-01-01\", periods=4, freq=\"D\")"
   ]
  },
  {
   "cell_type": "code",
   "execution_count": null,
   "metadata": {
    "tags": []
   },
   "outputs": [],
   "source": [
    "# Create a datetime index\n",
    "\n",
    "idx = pd.date_range(start=\"2023-01-01\", periods=4, freq=\"D\")\n",
    "df.index = idx\n",
    "df"
   ]
  },
  {
   "cell_type": "code",
   "execution_count": null,
   "metadata": {
    "tags": []
   },
   "outputs": [],
   "source": [
    "df = pd.DataFrame(data=data, index=idx)\n",
    "df"
   ]
  },
  {
   "cell_type": "markdown",
   "metadata": {
    "slideshow": {
     "slide_type": "slide"
    }
   },
   "source": [
    "## Investigating data frames \n",
    "\n",
    "Pandas has many functions we can use to investigate our dataframes. \n",
    "\n",
    "We can access both basic information about dataframes and summary statistics.  "
   ]
  },
  {
   "cell_type": "code",
   "execution_count": null,
   "metadata": {
    "slideshow": {
     "slide_type": "slide"
    },
    "tags": []
   },
   "outputs": [],
   "source": [
    "# tip: You can specify the number of rows you'd like to see by writing \n",
    "# a number of rows in the parenthesis: \n",
    "\n",
    "df.head(2)"
   ]
  },
  {
   "cell_type": "code",
   "execution_count": null,
   "metadata": {
    "slideshow": {
     "slide_type": "slide"
    },
    "tags": []
   },
   "outputs": [],
   "source": [
    "# We can also view the last 5 rows of the data frame using the tail() function.\n",
    "\n",
    "df.tail(2)\n",
    "\n",
    "# again, you can specify number of rows in parenthesis"
   ]
  },
  {
   "cell_type": "code",
   "execution_count": null,
   "metadata": {
    "slideshow": {
     "slide_type": "slide"
    },
    "tags": []
   },
   "outputs": [],
   "source": [
    "# number of rows and columns in dataframe\n",
    "\n",
    "# we use function shape that returns tuple (nr of rows, nr of colums)\n",
    "\n",
    "df.shape"
   ]
  },
  {
   "cell_type": "code",
   "execution_count": null,
   "metadata": {
    "slideshow": {
     "slide_type": "slide"
    },
    "tags": []
   },
   "outputs": [],
   "source": [
    "# we can also unpack it into nr_rows, nr_columns\n",
    "\n",
    "num_rows, num_cols = df.shape\n",
    "\n",
    "print('Number of rows is:', num_rows)\n",
    "\n",
    "print('Number of columns is:', num_cols)"
   ]
  },
  {
   "cell_type": "code",
   "execution_count": null,
   "metadata": {
    "slideshow": {
     "slide_type": "slide"
    },
    "tags": []
   },
   "outputs": [],
   "source": [
    "# general information about columns\n",
    "\n",
    "df.info()"
   ]
  },
  {
   "cell_type": "code",
   "execution_count": null,
   "metadata": {
    "slideshow": {
     "slide_type": "slide"
    },
    "tags": []
   },
   "outputs": [],
   "source": [
    "# summary statistics of numeric columns\n",
    "\n",
    "df.describe()"
   ]
  },
  {
   "cell_type": "code",
   "execution_count": null,
   "metadata": {
    "tags": []
   },
   "outputs": [],
   "source": [
    "df.dtypes"
   ]
  },
  {
   "cell_type": "code",
   "execution_count": null,
   "metadata": {
    "tags": []
   },
   "outputs": [],
   "source": [
    "type(df)"
   ]
  },
  {
   "cell_type": "code",
   "execution_count": null,
   "metadata": {
    "tags": []
   },
   "outputs": [],
   "source": [
    "type(df.Name)"
   ]
  },
  {
   "cell_type": "code",
   "execution_count": null,
   "metadata": {
    "tags": []
   },
   "outputs": [],
   "source": [
    "type(df.Name.to_frame())"
   ]
  },
  {
   "cell_type": "markdown",
   "metadata": {
    "slideshow": {
     "slide_type": "slide"
    }
   },
   "source": [
    "## Accessing columns\n",
    "\n",
    "Columns in a Pandas data frame can be accessed as `df.column`, `df['column']`, `loc[:, column_name]` or by using numeric indexing and the iloc selector data `.iloc[:, <column_number>]`."
   ]
  },
  {
   "cell_type": "code",
   "execution_count": null,
   "metadata": {
    "slideshow": {
     "slide_type": "slide"
    },
    "tags": []
   },
   "outputs": [],
   "source": [
    "df.columns # names of colums"
   ]
  },
  {
   "cell_type": "code",
   "execution_count": null,
   "metadata": {
    "slideshow": {
     "slide_type": "slide"
    },
    "tags": []
   },
   "outputs": [],
   "source": [
    "# # there are multiple ways to acces gender column \n",
    "\n",
    "# we can write:\n",
    "\n",
    "df.Gender\n",
    "\n",
    "# this will not work for columns with spaces in their names - df.Car Brand"
   ]
  },
  {
   "cell_type": "code",
   "execution_count": null,
   "metadata": {
    "slideshow": {
     "slide_type": "slide"
    },
    "tags": []
   },
   "outputs": [],
   "source": [
    "# this way will work regardless of column name \n",
    "\n",
    "df['Car Brand']"
   ]
  },
  {
   "cell_type": "code",
   "execution_count": null,
   "metadata": {
    "tags": []
   },
   "outputs": [],
   "source": [
    "df.loc[:, \"Car Brand\"]"
   ]
  },
  {
   "cell_type": "code",
   "execution_count": null,
   "metadata": {
    "slideshow": {
     "slide_type": "slide"
    },
    "tags": []
   },
   "outputs": [],
   "source": [
    "# we can also use iloc function - in this case, we don't use column name, we use column index \n",
    "\n",
    "# iloc takes two arguments - first is row index, and second is column index\n",
    "\n",
    "# in this case, we want all rows, so we write : as first argument \n",
    "\n",
    "# we want Gender column, which is third column in df, \n",
    "# but since indexing stars at 0, index for gender is 2\n",
    "\n",
    "df.iloc[:, 2]"
   ]
  },
  {
   "cell_type": "code",
   "execution_count": null,
   "metadata": {
    "slideshow": {
     "slide_type": "slide"
    },
    "tags": []
   },
   "outputs": [],
   "source": [
    "# with iloc, we can also access specific rows \n",
    "\n",
    "# for example, if we're interested in a value in 3rd row and 5th column:\n",
    "\n",
    "df.iloc[2, 4]"
   ]
  },
  {
   "cell_type": "code",
   "execution_count": null,
   "metadata": {
    "slideshow": {
     "slide_type": "slide"
    },
    "tags": []
   },
   "outputs": [],
   "source": [
    "# let's check our df\n",
    "\n",
    "df"
   ]
  },
  {
   "cell_type": "code",
   "execution_count": null,
   "metadata": {
    "slideshow": {
     "slide_type": "slide"
    },
    "tags": []
   },
   "outputs": [],
   "source": [
    "# we can also access multiple columns - you need to write double square brackets \n",
    "\n",
    "df[['Name', 'Country', 'Car Brand']]"
   ]
  },
  {
   "cell_type": "code",
   "execution_count": null,
   "metadata": {
    "slideshow": {
     "slide_type": "slide"
    },
    "tags": []
   },
   "outputs": [],
   "source": [
    "# we can also access multiple columns - you need to write double square brackets \n",
    "\n",
    "df.loc[:, ['Name', 'Country', 'Car Brand']]"
   ]
  },
  {
   "cell_type": "code",
   "execution_count": null,
   "metadata": {
    "slideshow": {
     "slide_type": "slide"
    },
    "tags": []
   },
   "outputs": [],
   "source": [
    "# by selecting columns from the original dataframe we can create new data frame \n",
    "\n",
    "new_df = df[['Name', 'Country', 'Car Brand']]\n",
    "\n",
    "new_df"
   ]
  },
  {
   "cell_type": "code",
   "execution_count": null,
   "metadata": {
    "slideshow": {
     "slide_type": "slide"
    },
    "tags": []
   },
   "outputs": [],
   "source": [
    "# for specific column, we can calculate mean, standard deviation, sum, min, max,\n",
    "# entire summary statistics... \n",
    "\n",
    "df['Age'].mean()"
   ]
  },
  {
   "cell_type": "code",
   "execution_count": null,
   "metadata": {
    "slideshow": {
     "slide_type": "slide"
    },
    "tags": []
   },
   "outputs": [],
   "source": [
    "print(df['Age'].std()) \n",
    "print()\n",
    "print(df['Children'].sum())\n",
    "print()\n",
    "print(df['Children'].max())\n",
    "print()\n",
    "print(df['Children'].min())\n",
    "print()\n",
    "print(df['Car Brand'].mode())"
   ]
  },
  {
   "cell_type": "markdown",
   "metadata": {
    "slideshow": {
     "slide_type": "slide"
    }
   },
   "source": [
    "## Task\n",
    "\n",
    "a) Create a data frame that looks like this:\n",
    "\n",
    "<div>\n",
    "<img src=\"../basic_df.png\" width=\"150\"/>\n",
    "</div>\n",
    "\n",
    "\n",
    "b) Calculate the following: \n",
    "\n",
    "1. Value in the fourth row and second column \n",
    "2. Hvilke verdier har vi 2023-01-03\n",
    "3. Lagre verdien for 2023-01-03 kolonne a til en variabel\n"
   ]
  },
  {
   "cell_type": "code",
   "execution_count": null,
   "metadata": {
    "jupyter": {
     "source_hidden": true
    },
    "tags": []
   },
   "outputs": [],
   "source": [
    "task_idx = pd.date_range(start=\"2023-01-01\", freq=\"D\", periods=5)\n",
    "task_data = dict(a=[1,2,3,4,5], b=[10,20,30,40,50])\n",
    "task_df = pd.DataFrame(task_data, index=task_idx)\n",
    "\n",
    "task_df"
   ]
  },
  {
   "cell_type": "code",
   "execution_count": null,
   "metadata": {
    "jupyter": {
     "source_hidden": true
    },
    "tags": []
   },
   "outputs": [],
   "source": [
    "print(\"Oppgave 1:\")\n",
    "print(task_df.iloc[3, 1])\n",
    "print(\"Oppgave 2:\")\n",
    "print(task_df.loc[\"2023-01-03\"])\n",
    "value_of_a = task_df.loc[\"2023-01-03\", \"a\"]"
   ]
  },
  {
   "cell_type": "code",
   "execution_count": null,
   "metadata": {},
   "outputs": [],
   "source": []
  },
  {
   "cell_type": "code",
   "execution_count": null,
   "metadata": {
    "scrolled": true,
    "slideshow": {
     "slide_type": "-"
    }
   },
   "outputs": [],
   "source": [
    "#### solution ####\n",
    "\n",
    "# we start by creating a dictionary with variable names as keys \n",
    "# and lists of values for those variables as values \n",
    "\n",
    "import pandas as pd\n",
    "\n",
    "# Create the pandas DataFrame \n",
    "\n"
   ]
  },
  {
   "cell_type": "code",
   "execution_count": null,
   "metadata": {},
   "outputs": [],
   "source": []
  },
  {
   "attachments": {
    "joins.png": {
     "image/png": "[encoded data removed]"
    }
   },
   "cell_type": "markdown",
   "metadata": {
    "slideshow": {
     "slide_type": "slide"
    }
   },
   "source": [
    "## Merging data frames \n",
    "\n",
    "Often your data comes from multiple sources and it is saved in more than one data frame. That means you need to merge these dataframes into one dataframe. \n",
    "\n",
    "Merging dataframes in Python is very similar to joins in SQL. \n",
    "\n",
    "\n",
    "<div>\n",
    "<img src=\"attachment:joins.png\" width=\"350\"/>\n",
    "</div>\n",
    "\n",
    "Image source: https://medium.com/swlh/merging-dataframes-with-pandas-pd-merge-7764c7e2d46d\n",
    "\n",
    "There are two functions in Python that we can use for joining dataframes - merge() and join(). \n",
    "\n",
    "Through this course we will use **merge()** function. "
   ]
  },
  {
   "cell_type": "code",
   "execution_count": null,
   "metadata": {
    "slideshow": {
     "slide_type": "slide"
    }
   },
   "outputs": [],
   "source": [
    "# let's create two datasets that we will merge\n",
    "\n",
    "transaksjoner = pd.read_csv(\"../data/logs.csv\")\n",
    "print(transaksjoner.shape)\n",
    "transaksjoner.head(2)"
   ]
  },
  {
   "cell_type": "code",
   "execution_count": null,
   "metadata": {
    "slideshow": {
     "slide_type": "slide"
    }
   },
   "outputs": [],
   "source": [
    "produkter = pd.read_csv(\"../data/stock.csv\")\n",
    "print(produkter.shape)\n",
    "produkter.head(2)"
   ]
  },
  {
   "cell_type": "code",
   "execution_count": null,
   "metadata": {
    "tags": []
   },
   "outputs": [],
   "source": [
    "produkter.info()"
   ]
  },
  {
   "cell_type": "markdown",
   "metadata": {
    "slideshow": {
     "slide_type": "slide"
    }
   },
   "source": [
    "## Deleting variables\n",
    "\n",
    "We have noticed that merging dataframes can lead to duplicated columns. There are also many other reasons for wanting to delete variables from the dataframe, so it is important we know how to do it.  "
   ]
  },
  {
   "cell_type": "code",
   "execution_count": null,
   "metadata": {
    "tags": []
   },
   "outputs": [],
   "source": [
    "transaksjoner.drop(columns=[\"Unnamed: 0\"]).head(2)"
   ]
  },
  {
   "cell_type": "code",
   "execution_count": null,
   "metadata": {
    "tags": []
   },
   "outputs": [],
   "source": [
    "transaksjoner = transaksjoner.drop(columns=[\"Unnamed: 0\"])"
   ]
  },
  {
   "cell_type": "code",
   "execution_count": null,
   "metadata": {
    "tags": []
   },
   "outputs": [],
   "source": [
    "produkter = produkter.drop(columns=[\"Unnamed: 0\"])"
   ]
  },
  {
   "cell_type": "code",
   "execution_count": null,
   "metadata": {
    "slideshow": {
     "slide_type": "slide"
    }
   },
   "outputs": [],
   "source": [
    "# for joining dataframes in Python we use merge() function\n",
    "\n",
    "# we need to precise which type of join we want (inner, outer, left or right)\n",
    "\n",
    "# and which variable(s) should be used as a joining key \n",
    "\n",
    "pd.merge(transaksjoner, produkter, how='inner', on='stockId')"
   ]
  },
  {
   "cell_type": "markdown",
   "metadata": {},
   "source": [
    "## Oppgave 1"
   ]
  },
  {
   "cell_type": "markdown",
   "metadata": {},
   "source": [
    "Vi ønsker egentlig kun å ha med oss navn og volume fra produkt df-en\n",
    "\n",
    "- Lag en df som kun inneholder det vi trenger for å merge sammen produktnavn og volume med transaksjons df-en"
   ]
  },
  {
   "cell_type": "code",
   "execution_count": null,
   "metadata": {
    "jupyter": {
     "source_hidden": true
    },
    "tags": []
   },
   "outputs": [],
   "source": [
    "# Her kan du fylle inn kode for å lage df-en\n",
    "\n",
    "cols = [\"stockName\", \"volume\", \"stockId\"]\n",
    "produktnavn = produkter[cols]\n",
    "print(produktnavn.shape)\n",
    "produktnavn.head(2)"
   ]
  },
  {
   "cell_type": "code",
   "execution_count": null,
   "metadata": {
    "tags": []
   },
   "outputs": [],
   "source": [
    "# Her kan du fylle inn kode for å lage df-en\n",
    "\n",
    "produktnavn = "
   ]
  },
  {
   "cell_type": "code",
   "execution_count": null,
   "metadata": {
    "tags": []
   },
   "outputs": [],
   "source": [
    "merged_df = pd.merge(transaksjoner, produktnavn, how='inner', on=[\"stockId\"])\n",
    "print(merged_df.shape)\n",
    "merged_df.head(2)"
   ]
  },
  {
   "cell_type": "markdown",
   "metadata": {
    "slideshow": {
     "slide_type": "slide"
    }
   },
   "source": [
    "## Renaming variables \n",
    "\n",
    "Often you would want to rename your variables. "
   ]
  },
  {
   "cell_type": "code",
   "execution_count": null,
   "metadata": {
    "slideshow": {
     "slide_type": "slide"
    }
   },
   "outputs": [],
   "source": [
    "merged_df = merged_df.rename(columns={\"timestamp\": \"logTimestamp\"})\n",
    "merged_df.tail(2)"
   ]
  },
  {
   "cell_type": "markdown",
   "metadata": {},
   "source": [
    "## Oppgave 2"
   ]
  },
  {
   "cell_type": "markdown",
   "metadata": {},
   "source": [
    "- Last inn filen som heter groups.csv i mappen data og merge den med den eksisterende data framen merged_df\n",
    "- Den kolonnen vi er ute etter er gruppenavn"
   ]
  },
  {
   "cell_type": "code",
   "execution_count": null,
   "metadata": {
    "jupyter": {
     "source_hidden": true
    },
    "tags": []
   },
   "outputs": [],
   "source": [
    "grupper = pd.read_csv(\"../data/groups.csv\")\n",
    "grupper = grupper[[\"groupId\", \"groupName\"]]\n",
    "print(grupper.shape)\n",
    "grupper.head(2)"
   ]
  },
  {
   "cell_type": "code",
   "execution_count": null,
   "metadata": {
    "jupyter": {
     "source_hidden": true
    },
    "tags": []
   },
   "outputs": [],
   "source": [
    "# Merge den inn i merged_df\n",
    "merged_df = pd.merge(merged_df, grupper, how='inner', on=[\"groupId\"])\n",
    "print(merged_df.shape)\n",
    "merged_df.head(2)"
   ]
  },
  {
   "cell_type": "code",
   "execution_count": null,
   "metadata": {
    "tags": []
   },
   "outputs": [],
   "source": []
  },
  {
   "cell_type": "code",
   "execution_count": null,
   "metadata": {
    "tags": []
   },
   "outputs": [],
   "source": [
    "# Merge den inn i merged_df\n",
    "merged_df = "
   ]
  },
  {
   "cell_type": "markdown",
   "metadata": {
    "slideshow": {
     "slide_type": "slide"
    }
   },
   "source": [
    "## Deleting variables\n",
    "\n",
    "We have noticed that merging dataframes can lead to duplicated columns. There are also many other reasons for wanting to delete variables from the dataframe, so it is important we know how to do it.  "
   ]
  },
  {
   "cell_type": "code",
   "execution_count": null,
   "metadata": {
    "tags": []
   },
   "outputs": [],
   "source": [
    "merged_df.drop(columns=[\"timestamp\", \"logoPath\"]).head(2)"
   ]
  },
  {
   "cell_type": "code",
   "execution_count": null,
   "metadata": {},
   "outputs": [],
   "source": [
    "merged_df = merged_df.drop(columns=[\"timestamp\", \"logoPath\"])"
   ]
  },
  {
   "cell_type": "markdown",
   "metadata": {},
   "source": [
    "## Saving DataFrame"
   ]
  },
  {
   "cell_type": "code",
   "execution_count": null,
   "metadata": {
    "tags": []
   },
   "outputs": [],
   "source": [
    "merged_df.to_csv(\"../data/utfyllende_transaksjon.csv\", index=False)"
   ]
  },
  {
   "cell_type": "code",
   "execution_count": null,
   "metadata": {},
   "outputs": [],
   "source": []
  },
  {
   "cell_type": "code",
   "execution_count": null,
   "metadata": {},
   "outputs": [],
   "source": []
  },
  {
   "cell_type": "code",
   "execution_count": null,
   "metadata": {},
   "outputs": [],
   "source": []
  },
  {
   "cell_type": "code",
   "execution_count": null,
   "metadata": {},
   "outputs": [],
   "source": []
  },
  {
   "cell_type": "markdown",
   "metadata": {
    "slideshow": {
     "slide_type": "slide"
    }
   },
   "source": [
    "## Concatenating dataframes \n",
    "\n",
    "Sometimes we may also have the same data in more datframes and we would like to concatenate them. \n",
    "\n",
    "**Merge()** is used to combine two (or more) dataframes on the basis of values of common columns (or index), and **concat()** is used to append one (or more) dataframes one below the other."
   ]
  },
  {
   "cell_type": "code",
   "execution_count": null,
   "metadata": {
    "slideshow": {
     "slide_type": "slide"
    }
   },
   "outputs": [],
   "source": [
    "# creating three dataframes, first one with employees starting in January,\n",
    "# second one with employees starting in February and third one with employees starting in March \n",
    "\n",
    "employees_jan = pd.DataFrame([{'Name': 'Kelly', 'Role': 'Director of HR', 'Employee ID': 1876},\n",
    "                              {'Name': 'Annie', 'Role': 'Data Scientist', 'Employee ID': 3234},\n",
    "                              {'Name': 'James', 'Role': 'Developer', 'Employee ID': 6743}])  \n",
    "\n",
    "employees_feb = pd.DataFrame([{'Name': 'John', 'Role': 'Analyst', 'Employee ID': 5432},\n",
    "                              {'Name': 'Rebecca', 'Role': 'Product Manager', 'Employee ID': 9807},\n",
    "                              {'Name': 'Peggy', 'Role': 'Data Scientist', 'Employee ID': 1253}])\n",
    "\n",
    "employees_mar = pd.DataFrame([{'Name': 'Melanie', 'Role': 'IT manager', 'Employee ID': 4278},\n",
    "                              {'Name': 'Michael', 'Role': 'Receptionist', 'Employee ID': 7549},\n",
    "                              {'Name': 'Steven', 'Role': 'Developer', 'Employee ID': 2641}])"
   ]
  },
  {
   "cell_type": "code",
   "execution_count": null,
   "metadata": {
    "tags": []
   },
   "outputs": [],
   "source": [
    "employees_jan"
   ]
  },
  {
   "cell_type": "code",
   "execution_count": null,
   "metadata": {
    "slideshow": {
     "slide_type": "slide"
    }
   },
   "outputs": [],
   "source": [
    "# concatenating dataframes\n",
    "\n",
    "future_employees = pd.concat([employees_jan, employees_feb, employees_mar])\n",
    "\n",
    "future_employees"
   ]
  },
  {
   "cell_type": "code",
   "execution_count": null,
   "metadata": {
    "slideshow": {
     "slide_type": "slide"
    }
   },
   "outputs": [],
   "source": [
    "# we need to fix the index \n",
    "\n",
    "# we can do it with reset_index function \n",
    "\n",
    "# or we can add ignore_index=True as an argument in concat function \n",
    "\n",
    "future_employees = pd.concat([employees_jan, employees_feb, employees_mar], ignore_index=True)\n",
    "\n",
    "future_employees"
   ]
  },
  {
   "cell_type": "markdown",
   "metadata": {
    "slideshow": {
     "slide_type": "slide"
    }
   },
   "source": [
    "### Sorting dataframes \n",
    "\n",
    "Dataframes can be sorted by values in columns."
   ]
  },
  {
   "cell_type": "code",
   "execution_count": null,
   "metadata": {
    "scrolled": true,
    "slideshow": {
     "slide_type": "slide"
    }
   },
   "outputs": [],
   "source": [
    "# we use sort_values function that by default sorts data ascending\n",
    "\n",
    "future_employees = future_employees.sort_values(by='Name')\n",
    "\n",
    "future_employees"
   ]
  },
  {
   "cell_type": "code",
   "execution_count": null,
   "metadata": {
    "slideshow": {
     "slide_type": "slide"
    }
   },
   "outputs": [],
   "source": [
    "# we need to specify if we want to sort descending \n",
    "\n",
    "future_employees = future_employees.sort_values(by='Name', ascending=False)\n",
    "\n",
    "future_employees"
   ]
  },
  {
   "cell_type": "code",
   "execution_count": null,
   "metadata": {
    "slideshow": {
     "slide_type": "slide"
    }
   },
   "outputs": [],
   "source": [
    "# if we want to sort by two variables: \n",
    "\n",
    "future_employees = future_employees.sort_values(by=['Role', 'Name'])\n",
    "\n",
    "future_employees"
   ]
  }
 ],
 "metadata": {
  "celltoolbar": "Slideshow",
  "kernelspec": {
   "display_name": "Python 3 (ipykernel)",
   "language": "python",
   "name": "python3"
  },
  "language_info": {
   "codemirror_mode": {
    "name": "ipython",
    "version": 3
   },
   "file_extension": ".py",
   "mimetype": "text/x-python",
   "name": "python",
   "nbconvert_exporter": "python",
   "pygments_lexer": "ipython3",
   "version": "3.10.9"
  },
  "vscode": {
   "interpreter": {
    "hash": "1a1af0ee75eeea9e2e1ee996c87e7a2b11a0bebd85af04bb136d915cefc0abce"
   }
  }
 },
 "nbformat": 4,
 "nbformat_minor": 4
}
