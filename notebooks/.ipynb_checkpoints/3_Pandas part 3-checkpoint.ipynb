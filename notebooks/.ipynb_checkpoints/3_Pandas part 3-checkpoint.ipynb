{
 "cells": [
  {
   "cell_type": "code",
   "execution_count": null,
   "metadata": {
    "slideshow": {
     "slide_type": "slide"
    },
    "tags": []
   },
   "outputs": [],
   "source": [
    "# import libraries we'll use \n",
    "\n",
    "import pandas as pd "
   ]
  },
  {
   "cell_type": "code",
   "execution_count": null,
   "metadata": {
    "slideshow": {
     "slide_type": "slide"
    },
    "tags": []
   },
   "outputs": [],
   "source": [
    "# import dataframe we created and saved as csv \n",
    "\n",
    "# this is the same as the one we created in Pandas part 2\n",
    "\n",
    "transactions = pd.read_csv(\"../data/mer_utfyllende_transaksjon.csv\")\n",
    "\n",
    "transactions.head()"
   ]
  },
  {
   "cell_type": "markdown",
   "metadata": {
    "slideshow": {
     "slide_type": "slide"
    },
    "tags": []
   },
   "source": [
    "## Dates in Python \n",
    "\n",
    "Usually you'll have your dates as a variable in Pandas dataframe. If you just use strandard pd.read_csv() function to create your dataframe, Python will treat your date variable as string. We need to transform them into dates. Also, dates can have different formats, so we need to specify that.\n",
    "\n",
    "You can also add `parse_dates = True` parameter when importing the data with read_csv, but it will not always work (depending on date format).\n"
   ]
  },
  {
   "cell_type": "code",
   "execution_count": null,
   "metadata": {
    "slideshow": {
     "slide_type": "slide"
    },
    "tags": []
   },
   "outputs": [],
   "source": [
    "# in transaction dataframe, we have two dates, transaction date (logTimestamp) and date of birth (DOB)\n",
    "date_format = \"%Y-%m-%d %H:%M:%S\"\n",
    "\n",
    "transactions['logTimestamp'] = pd.to_datetime(transactions['logTimestamp'], format=date_format)\n",
    "\n",
    "transactions.head()"
   ]
  },
  {
   "cell_type": "markdown",
   "metadata": {},
   "source": [
    "### Datoformat\n",
    "\n",
    "sjekk ut for datoformat i python [her](https://docs.python.org/3/library/datetime.html#strftime-and-strptime-format-codes)"
   ]
  },
  {
   "cell_type": "code",
   "execution_count": null,
   "metadata": {
    "slideshow": {
     "slide_type": "slide"
    },
    "tags": []
   },
   "outputs": [],
   "source": [
    "# check your df \n",
    "\n",
    "transactions.info()"
   ]
  },
  {
   "cell_type": "code",
   "execution_count": null,
   "metadata": {
    "slideshow": {
     "slide_type": "slide"
    },
    "tags": []
   },
   "outputs": [],
   "source": [
    "# now we can access specific elements of the date within each column\n",
    "\n",
    "transactions['tran_year'] = transactions['logTimestamp'].dt.year\n",
    "transactions['tran_month'] = transactions['logTimestamp'].dt.month\n",
    "transactions['tran_week'] = transactions['logTimestamp'].dt.isocalendar().week\n",
    "transactions['tran_day'] = transactions['logTimestamp'].dt.day\n",
    "transactions['tran_day_name'] = transactions['logTimestamp'].dt.day_name()\n",
    "transactions['tran_month_name'] = transactions['logTimestamp'].dt.month_name()\n",
    "\n",
    "transactions.head()"
   ]
  },
  {
   "cell_type": "code",
   "execution_count": null,
   "metadata": {
    "slideshow": {
     "slide_type": "slide"
    },
    "tags": []
   },
   "outputs": [],
   "source": [
    "# now you can investigate your data further \n",
    "\n",
    "# for example, you can count transactions per day \n",
    "\n",
    "transactions['tran_day_name'].value_counts() "
   ]
  },
  {
   "cell_type": "code",
   "execution_count": null,
   "metadata": {
    "slideshow": {
     "slide_type": "slide"
    },
    "tags": []
   },
   "outputs": [],
   "source": [
    "# let's check what pd.to_datetime(\"today\") is \n",
    "\n",
    "pd.to_datetime(\"today\")"
   ]
  },
  {
   "cell_type": "markdown",
   "metadata": {
    "slideshow": {
     "slide_type": "slide"
    }
   },
   "source": [
    "## Missing values \n",
    "\n",
    "Missing values in dataset is one of the most common challenges you'll encounter when working with data. \n",
    "\n",
    "In order to decide how to handle this problem, first you need to understand why do you have missing data in the first place. \n",
    "\n",
    "When handling missing data, you can: \n",
    "\n",
    "- Remove that observation\n",
    "- Remove the variable\n",
    "- Replace missing value with mean/median or 0 (numerical variables)\n",
    "- Replace missing value with mode or extra category called “Unknown” (categorical variables)\n"
   ]
  },
  {
   "cell_type": "code",
   "execution_count": null,
   "metadata": {
    "slideshow": {
     "slide_type": "slide"
    },
    "tags": []
   },
   "outputs": [],
   "source": [
    "# How many missing values we have in the dataset?\n",
    "\n",
    "transactions.isnull().sum()"
   ]
  },
  {
   "cell_type": "markdown",
   "metadata": {
    "slideshow": {
     "slide_type": "slide"
    }
   },
   "source": [
    "## Changing Column Types \n",
    "\n",
    "Sometimes your columns will get imported in pandas dataframe as wrong data type and you will need to change it. \n",
    "\n",
    "Often you will want to change integers to strings (if they are codes), strings to integers, integers to floats or floats to integers.\n",
    "\n",
    "To do that, we use _astype()_ function. \n"
   ]
  },
  {
   "cell_type": "code",
   "execution_count": null,
   "metadata": {
    "slideshow": {
     "slide_type": "slide"
    }
   },
   "outputs": [],
   "source": [
    "transactions.dtypes # let's check again column types "
   ]
  },
  {
   "cell_type": "code",
   "execution_count": null,
   "metadata": {},
   "outputs": [],
   "source": [
    "transactions.price.unique()"
   ]
  },
  {
   "cell_type": "code",
   "execution_count": null,
   "metadata": {
    "slideshow": {
     "slide_type": "slide"
    }
   },
   "outputs": [],
   "source": [
    "# we will turn price from float to int\n",
    "\n",
    "transactions['price'] = transactions['price'].astype('int')"
   ]
  },
  {
   "cell_type": "code",
   "execution_count": null,
   "metadata": {
    "slideshow": {
     "slide_type": "slide"
    }
   },
   "outputs": [],
   "source": [
    "transactions.dtypes # let's check again column types "
   ]
  },
  {
   "cell_type": "code",
   "execution_count": null,
   "metadata": {},
   "outputs": [],
   "source": [
    "transactions['price'] = transactions['price'].astype('float')"
   ]
  },
  {
   "cell_type": "markdown",
   "metadata": {
    "slideshow": {
     "slide_type": "slide"
    }
   },
   "source": [
    "## Remove duplicates \n",
    "\n",
    "What is the primary key here?\n",
    "\n",
    "- id?"
   ]
  },
  {
   "cell_type": "code",
   "execution_count": null,
   "metadata": {
    "tags": []
   },
   "outputs": [],
   "source": [
    "primary_cols = [\"id\"]"
   ]
  },
  {
   "cell_type": "code",
   "execution_count": null,
   "metadata": {
    "slideshow": {
     "slide_type": "slide"
    },
    "tags": []
   },
   "outputs": [],
   "source": [
    "transactions.duplicated(subset=primary_cols).any()"
   ]
  },
  {
   "cell_type": "markdown",
   "metadata": {},
   "source": [
    "id er jo bare et løpenummer. Hva kan tenkes at burde være unikt her?\n",
    "\n",
    "- userId og logTimestamp??"
   ]
  },
  {
   "cell_type": "code",
   "execution_count": null,
   "metadata": {
    "tags": []
   },
   "outputs": [],
   "source": [
    "primary_cols = [\"userId\", \"logTimestamp\"]"
   ]
  },
  {
   "cell_type": "code",
   "execution_count": null,
   "metadata": {
    "slideshow": {
     "slide_type": "slide"
    },
    "tags": []
   },
   "outputs": [],
   "source": [
    "transactions.duplicated(subset=primary_cols).any()"
   ]
  },
  {
   "cell_type": "code",
   "execution_count": null,
   "metadata": {
    "tags": []
   },
   "outputs": [],
   "source": [
    "transactions.loc[transactions.duplicated(subset=primary_cols, keep=False)].sort_values(\"logTimestamp\")"
   ]
  },
  {
   "cell_type": "markdown",
   "metadata": {},
   "source": [
    "Legg merke til de to nederste radene\n",
    "\n",
    "- userId og logTimestamp er like, men produktene er forskjellige\n",
    "- Det betyr kanskje at alt det andre heller ikke er duplikater"
   ]
  },
  {
   "cell_type": "code",
   "execution_count": null,
   "metadata": {
    "slideshow": {
     "slide_type": "slide"
    }
   },
   "outputs": [],
   "source": [
    "# transactions = transactions.drop_duplicates(subset=primary_cols)\n",
    "# transactions.shape"
   ]
  },
  {
   "cell_type": "markdown",
   "metadata": {
    "slideshow": {
     "slide_type": "slide"
    },
    "tags": []
   },
   "source": [
    "## Outliers\n",
    "\n",
    "In statistics, **an outlier** is an observation point that is distant from other observations (different than most observations).\n",
    "\n",
    "**z-value** or *standard score* is a standard measure of how much out of the ordinary a data point is.\n",
    "\n",
    "It is defined as:\n",
    "\n",
    "$$z = \\frac{x - \\mu}{\\sigma}$$\n",
    "\n",
    "where $\\mu$ is the *mean* and $\\sigma$ the *standard deviation*,\n",
    "\n",
    "$$\\sigma = \\sqrt{\\frac 1 {N-1} \\sum_{i=1}^N (x_i - \\mu)^2}$$"
   ]
  },
  {
   "cell_type": "code",
   "execution_count": null,
   "metadata": {
    "slideshow": {
     "slide_type": "slide"
    },
    "tags": []
   },
   "outputs": [],
   "source": [
    "# we can calculate z-value for variable price\n",
    "\n",
    "transactions['zscore'] = (transactions[\"price\"] - transactions[\"price\"].mean()) / transactions[\"price\"].std()"
   ]
  },
  {
   "cell_type": "code",
   "execution_count": null,
   "metadata": {
    "slideshow": {
     "slide_type": "slide"
    },
    "tags": []
   },
   "outputs": [],
   "source": [
    "print(transactions[\"price\"].mean())\n",
    "\n",
    "print(transactions[\"price\"].std())"
   ]
  },
  {
   "cell_type": "code",
   "execution_count": null,
   "metadata": {
    "slideshow": {
     "slide_type": "slide"
    },
    "tags": []
   },
   "outputs": [],
   "source": [
    "# let's try to visualize our zscore\n",
    "\n",
    "import matplotlib as mpl\n",
    "import matplotlib.pyplot as plt \n",
    "\n",
    "transactions.plot(y=\"zscore\", figsize = (20, 7))"
   ]
  },
  {
   "cell_type": "code",
   "execution_count": null,
   "metadata": {
    "tags": []
   },
   "outputs": [],
   "source": [
    "transactions.boxplot(column=\"zscore\")"
   ]
  },
  {
   "cell_type": "code",
   "execution_count": null,
   "metadata": {
    "slideshow": {
     "slide_type": "slide"
    },
    "tags": []
   },
   "outputs": [],
   "source": [
    "transactions[[\"zscore\"]].describe()"
   ]
  },
  {
   "cell_type": "code",
   "execution_count": null,
   "metadata": {
    "slideshow": {
     "slide_type": "slide"
    },
    "tags": []
   },
   "outputs": [],
   "source": [
    "# obviously most of them are around 0, and some of them are much higher \n",
    "\n",
    "# let's look at the data where zcore is greater than 3 - that is the data \n",
    "\n",
    "outliers = transactions[transactions[\"zscore\"] > 3]\n",
    "outliers"
   ]
  },
  {
   "cell_type": "markdown",
   "metadata": {},
   "source": [
    "However, these don't seem to be outliers. It's just more expensive stuff"
   ]
  },
  {
   "cell_type": "code",
   "execution_count": null,
   "metadata": {
    "tags": []
   },
   "outputs": [],
   "source": [
    "outliers[[\"price\", \"stockName\"]].min()"
   ]
  },
  {
   "cell_type": "code",
   "execution_count": null,
   "metadata": {
    "tags": []
   },
   "outputs": [],
   "source": [
    "outliers[[\"price\", \"stockName\"]].max()"
   ]
  },
  {
   "cell_type": "markdown",
   "metadata": {},
   "source": [
    "## Save data"
   ]
  },
  {
   "cell_type": "code",
   "execution_count": null,
   "metadata": {
    "slideshow": {
     "slide_type": "slide"
    }
   },
   "outputs": [],
   "source": [
    "# and now we save our dataframe to file again \n",
    "\n",
    "transactions.to_csv('../data/transactions_dataframe_newest.csv', index=False) "
   ]
  },
  {
   "cell_type": "code",
   "execution_count": null,
   "metadata": {},
   "outputs": [],
   "source": []
  }
 ],
 "metadata": {
  "celltoolbar": "Slideshow",
  "kernelspec": {
   "display_name": "Python 3 (ipykernel)",
   "language": "python",
   "name": "python3"
  },
  "language_info": {
   "codemirror_mode": {
    "name": "ipython",
    "version": 3
   },
   "file_extension": ".py",
   "mimetype": "text/x-python",
   "name": "python",
   "nbconvert_exporter": "python",
   "pygments_lexer": "ipython3",
   "version": "3.10.9"
  }
 },
 "nbformat": 4,
 "nbformat_minor": 4
}
